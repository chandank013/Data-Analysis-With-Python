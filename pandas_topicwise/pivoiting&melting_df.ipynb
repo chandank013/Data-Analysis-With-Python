{
 "cells": [
  {
   "cell_type": "code",
   "execution_count": 20,
   "id": "b9fd9a9a-1817-448f-a620-5e54c5aa35d2",
   "metadata": {},
   "outputs": [
    {
     "name": "stdout",
     "output_type": "stream",
     "text": [
      "  keys     Name Houses Grades\n",
      "0   k1  Chandan    red    3rd\n",
      "1   k2     Prem  black    8th\n",
      "2   k3     Ravi   blue    9th\n",
      "3   k4    Suraj    red    8th\n",
      "      Houses                     Grades                \n",
      "Name Chandan   Prem  Ravi Suraj Chandan Prem Ravi Suraj\n",
      "keys                                                   \n",
      "k1       red    NaN   NaN   NaN     3rd  NaN  NaN   NaN\n",
      "k2       NaN  black   NaN   NaN     NaN  8th  NaN   NaN\n",
      "k3       NaN    NaN  blue   NaN     NaN  NaN  9th   NaN\n",
      "k4       NaN    NaN   NaN   red     NaN  NaN  NaN   8th\n"
     ]
    }
   ],
   "source": [
    "import pandas as pd\n",
    "\n",
    "dict1 = {\"keys\":[\"k1\",\"k2\",\"k3\",\"k4\"],\n",
    "        \"Name\":[\"Chandan\",\"Prem\",\"Ravi\",\"Suraj\"],\n",
    "        \"Houses\":[\"red\",\"black\",\"blue\",\"red\"],\n",
    "        \"Grades\":[\"3rd\",\"8th\",\"9th\",\"8th\"]}\n",
    "\n",
    "df = pd.DataFrame(dict1)\n",
    "print(df)\n",
    "print(df.pivot(index=\"keys\",columns=\"Name\",values=[\"Houses\",\"Grades\"]))"
   ]
  },
  {
   "cell_type": "code",
   "execution_count": 36,
   "id": "45fee808-a778-483d-aa4b-f2851e11cad2",
   "metadata": {},
   "outputs": [
    {
     "name": "stdout",
     "output_type": "stream",
     "text": [
      "      Name Houses Grades\n",
      "0  Chandan    red    3rd\n",
      "1     Prem  black    8th\n",
      "2     Ravi   blue    9th\n",
      "3    Suraj    red    8th\n",
      "      Name Houses&Grades values\n",
      "0  Chandan        Houses    red\n",
      "1     Prem        Houses  black\n",
      "2     Ravi        Houses   blue\n",
      "3    Suraj        Houses    red\n",
      "4  Chandan        Grades    3rd\n",
      "5     Prem        Grades    8th\n",
      "6     Ravi        Grades    9th\n",
      "7    Suraj        Grades    8th\n"
     ]
    }
   ],
   "source": [
    "import pandas as pd\n",
    "\n",
    "dict1 = {\"Name\":[\"Chandan\",\"Prem\",\"Ravi\",\"Suraj\"],\n",
    "        \"Houses\":[\"red\",\"black\",\"blue\",\"red\"],\n",
    "        \"Grades\":[\"3rd\",\"8th\",\"9th\",\"8th\"]}\n",
    "\n",
    "df = pd.DataFrame(dict1)\n",
    "print(df)\n",
    "\n",
    "print(pd.melt(df,id_vars=[\"Name\"],value_vars=[\"Houses\",\"Grades\"],var_name=\"Houses&Grades\",value_name=\"values\"))"
   ]
  }
 ],
 "metadata": {
  "kernelspec": {
   "display_name": "Python [conda env:base] *",
   "language": "python",
   "name": "conda-base-py"
  },
  "language_info": {
   "codemirror_mode": {
    "name": "ipython",
    "version": 3
   },
   "file_extension": ".py",
   "mimetype": "text/x-python",
   "name": "python",
   "nbconvert_exporter": "python",
   "pygments_lexer": "ipython3",
   "version": "3.12.7"
  }
 },
 "nbformat": 4,
 "nbformat_minor": 5
}
