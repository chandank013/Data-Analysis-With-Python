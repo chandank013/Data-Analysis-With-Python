{
 "cells": [
  {
   "cell_type": "code",
   "execution_count": null,
   "id": "64d68beb-c364-41ca-9ddf-8971ee77df4f",
   "metadata": {},
   "outputs": [],
   "source": [
    "import pandas as pd\n",
    "\n",
    "df = pd.read_excel(\"D:/GitHub/Data Analysis With Python/Data/ESD.xlsx\")\n",
    "# print(df)"
   ]
  },
  {
   "cell_type": "code",
   "execution_count": null,
   "id": "bfb91b1a-a63e-4519-ad31-bb6533377f62",
   "metadata": {},
   "outputs": [],
   "source": [
    "df.loc[(df[\"Bonus %\"] == 0),\"GetBonus\"] = \"no bonus\"\n",
    "df.loc[(df[\"Bonus %\"] > 0),\"GetBonus\"] = \"bonus\"\n",
    "print(df.head(10))"
   ]
  },
  {
   "cell_type": "code",
   "execution_count": null,
   "id": "3d7a93f2-5a5a-4826-96a1-1a1767f25c20",
   "metadata": {},
   "outputs": [],
   "source": [
    "df[\"Full NAME_Gen\"] = df[\"Full Name\"].str.upper() +\" \"+ df[\"Gender\"]\n",
    "print(df)"
   ]
  },
  {
   "cell_type": "code",
   "execution_count": null,
   "id": "c437d895-e1a8-4d60-9991-f389cf1ccf2d",
   "metadata": {},
   "outputs": [],
   "source": [
    "print(data)"
   ]
  },
  {
   "cell_type": "code",
   "execution_count": null,
   "id": "f136bcf7-3acd-4914-8de1-5d829d23f384",
   "metadata": {},
   "outputs": [],
   "source": [
    "data[\"Bonus\"] = (data [\"Annual Salary\"]/100)*20\n",
    "print(data)"
   ]
  },
  {
   "cell_type": "code",
   "execution_count": null,
   "id": "facfda2a-243e-4357-b2df-7c828f5740f0",
   "metadata": {},
   "outputs": [],
   "source": [
    "# Own created data\n",
    "\n",
    "data ={\"Months\":[\"January\",\"Febuary\",\"March\",\"April\"]}\n",
    "a= pd.DataFrame(data)\n",
    "a.head()\n",
    "\n",
    "def extract(value):\n",
    "    return value[:3]\n",
    "    \n",
    "a[\"Short_Months\"]= a[\"Months\"].map(extract)\n",
    "print(a)"
   ]
  }
 ],
 "metadata": {
  "kernelspec": {
   "display_name": "Python [conda env:base] *",
   "language": "python",
   "name": "conda-base-py"
  },
  "language_info": {
   "codemirror_mode": {
    "name": "ipython",
    "version": 3
   },
   "file_extension": ".py",
   "mimetype": "text/x-python",
   "name": "python",
   "nbconvert_exporter": "python",
   "pygments_lexer": "ipython3",
   "version": "3.12.7"
  }
 },
 "nbformat": 4,
 "nbformat_minor": 5
}
