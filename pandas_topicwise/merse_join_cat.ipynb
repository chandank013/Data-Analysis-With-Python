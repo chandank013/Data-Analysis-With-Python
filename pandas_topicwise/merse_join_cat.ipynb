{
 "cells": [
  {
   "cell_type": "code",
   "execution_count": 29,
   "id": "0e70c42a-0bf1-4d69-bf7c-acf90c69e971",
   "metadata": {},
   "outputs": [
    {
     "name": "stdout",
     "output_type": "stream",
     "text": [
      "|    | Emp Id   | Name   |   Age |\n",
      "|---:|:---------|:-------|------:|\n",
      "|  0 | E01      | Ram    |    36 |\n",
      "|  1 | E02      | Shayam |    56 |\n",
      "|  2 | E03      | Rahul  |    46 |\n",
      "|  3 | E04      | Vishal |    44 |\n",
      "|  4 | E05      | Sohan  |    65 |\n",
      "|  5 | E06      | Ravi   |    63 |\n",
      "\n",
      "  Emp Id  Salary\n",
      "0    E01   45000\n",
      "1    E07   56000\n",
      "2    E03   34000\n",
      "3    E04   30000\n",
      "4    E08   50000\n",
      "5    E06   67000\n"
     ]
    }
   ],
   "source": [
    "import pandas as pd\n",
    "\n",
    "data1  = {\"Emp Id\":[\"E01\",\"E02\",\"E03\",\"E04\",\"E05\",\"E06\"],\n",
    "         \"Name\":[\"Ram\",\"Shayam\",\"Rahul\",\"Vishal\",\"Sohan\",\"Ravi\"],\n",
    "         \"Age\":[\"36\",\"56\",\"46\",\"44\",\"65\",\"63\"]}\n",
    "\n",
    "data2 = {\"Emp Id\":[\"E01\",\"E07\",\"E03\",\"E04\",\"E08\",\"E06\"],\n",
    "         \"Salary\":[45000,56000,34000,30000,50000,67000]}\n",
    "\n",
    "df1 = pd.DataFrame(data1)\n",
    "df2 = pd.DataFrame(data2)\n",
    "\n",
    "print(df1.to_markdown())\n",
    "print()\n",
    "print(df2)\n"
   ]
  },
  {
   "cell_type": "code",
   "execution_count": 31,
   "id": "ed21b205-3efe-45c3-8170-d95925f1b9f8",
   "metadata": {},
   "outputs": [
    {
     "name": "stdout",
     "output_type": "stream",
     "text": [
      "  Emp Id    Name  Age  Salary\n",
      "0    E01     Ram   36   45000\n",
      "1    E07     NaN  NaN   56000\n",
      "2    E03   Rahul   46   34000\n",
      "3    E04  Vishal   44   30000\n",
      "4    E08     NaN  NaN   50000\n",
      "5    E06    Ravi   63   67000\n"
     ]
    }
   ],
   "source": [
    "print(pd.merge(left=df1,right=df2,on = \"Emp Id\",how=\"right\"))"
   ]
  },
  {
   "cell_type": "code",
   "execution_count": 39,
   "id": "3cc8f2bd-76c1-4600-aab5-e4a740938b8d",
   "metadata": {},
   "outputs": [
    {
     "name": "stdout",
     "output_type": "stream",
     "text": [
      "|    | Emp Id   | Name       |   Age |\n",
      "|---:|:---------|:-----------|------:|\n",
      "|  0 | E07      | Chandan    |    36 |\n",
      "|  1 | E08      | Prem       |    56 |\n",
      "|  2 | E09      | Dharmendra |    46 |\n",
      "|  3 | E10      | Suraj      |    44 |\n",
      "|  4 | E11      | Sampat     |    65 |\n",
      "|  5 | E12      | Rausan     |    63 |\n",
      "\n",
      "  Emp Id  Salary\n",
      "0    E01   45000\n",
      "1    E07   56000\n",
      "2    E03   34000\n",
      "3    E04   30000\n",
      "4    E08   50000\n",
      "5    E06   67000\n"
     ]
    }
   ],
   "source": [
    "import pandas as pd\n",
    "\n",
    "data1  = {\"Emp Id\":[\"E01\",\"E02\",\"E03\",\"E04\",\"E05\",\"E06\"],\n",
    "         \"Name\":[\"Ram\",\"Shayam\",\"Rahul\",\"Vishal\",\"Sohan\",\"Ravi\"],\n",
    "         \"Age\":[\"36\",\"56\",\"46\",\"44\",\"65\",\"63\"]}\n",
    "\n",
    "data1  = {\"Emp Id\":[\"E07\",\"E08\",\"E09\",\"E10\",\"E11\",\"E12\"],\n",
    "         \"Name\":[\"Chandan\",\"Prem\",\"Dharmendra\",\"Suraj\",\"Sampat\",\"Rausan\"],\n",
    "         \"Age\":[\"36\",\"56\",\"46\",\"44\",\"65\",\"63\"]}\n",
    "\n",
    "df1 = pd.DataFrame(data1)\n",
    "df2 = pd.DataFrame(data2)\n",
    "\n",
    "print(df1.to_markdown())\n",
    "print()\n",
    "print(df2)"
   ]
  },
  {
   "cell_type": "code",
   "execution_count": null,
   "id": "6f733bdf-1078-4d1c-b354-621d75c03740",
   "metadata": {},
   "outputs": [],
   "source": []
  }
 ],
 "metadata": {
  "kernelspec": {
   "display_name": "Python [conda env:base] *",
   "language": "python",
   "name": "conda-base-py"
  },
  "language_info": {
   "codemirror_mode": {
    "name": "ipython",
    "version": 3
   },
   "file_extension": ".py",
   "mimetype": "text/x-python",
   "name": "python",
   "nbconvert_exporter": "python",
   "pygments_lexer": "ipython3",
   "version": "3.12.7"
  }
 },
 "nbformat": 4,
 "nbformat_minor": 5
}
